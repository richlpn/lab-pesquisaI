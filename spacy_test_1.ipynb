{
 "cells": [
  {
   "cell_type": "code",
   "execution_count": 10,
   "metadata": {},
   "outputs": [],
   "source": [
    "import spacy"
   ]
  },
  {
   "cell_type": "code",
   "execution_count": 11,
   "metadata": {},
   "outputs": [],
   "source": [
    "#Create NPL object passing language core \n",
    "npl = spacy.load(\"pt_core_news_sm\")"
   ]
  },
  {
   "cell_type": "code",
   "execution_count": 12,
   "metadata": {},
   "outputs": [],
   "source": [
    "#Loads text source file\n",
    "def load_text(path:str) -> str:\n",
    "    txt = ''\n",
    "    with open(path,'r') as file:\n",
    "        txt = file.read()\n",
    "\n",
    "    return txt"
   ]
  },
  {
   "cell_type": "code",
   "execution_count": 13,
   "metadata": {},
   "outputs": [
    {
     "name": "stdout",
     "output_type": "stream",
     "text": [
      "Alocação dinâmica de memória em C se refere à execução de gerenciamento manual de memória para alocação dinâmica de memória na linguagem de programação C por meio de um grupo de funções na biblioteca padrão do C, que são malloc, realloc, calloc e freefree.\n",
      "\n",
      "(A linguagem de programação C++ inclui essas funções). No entanto, os operadores new e delete fornecem funcionalidade semelhante e são recomendados pelos autores desse idioma.[4] Ainda assim, existem várias situações em que o uso de new/delete não é aplicável, como código de coleta de lixo (garbage collection) ou código sensível ao desempenho, e uma combinação de malloc e placement new pode ser necessária em vez do operador new de alto nível. malloc é um termo da computação que designa uma função da biblioteca padrão das linguagens de programação C e C++ para requisitar alocação dinâmica de memória. É uma forma abreviada de escrever memory allocation (alocação de memória). \n"
     ]
    }
   ],
   "source": [
    "source_txt = load_text('./source.txt')\n",
    "print(source_txt)"
   ]
  },
  {
   "cell_type": "code",
   "execution_count": 14,
   "metadata": {},
   "outputs": [
    {
     "name": "stdout",
     "output_type": "stream",
     "text": [
      "Alocação dinâmica de memória em C se refere à execução de gerenciamento manual de memória para alocação dinâmica de memória na linguagem de programação C por meio de um grupo de funções na biblioteca padrão do C, que são malloc, realloc, calloc e freefree.\n",
      "\n",
      "(A linguagem de programação C++ inclui essas funções). No entanto, os operadores new e delete fornecem funcionalidade semelhante e são recomendados pelos autores desse idioma.[4] Ainda assim, existem várias situações em que o uso de new/delete não é aplicável, como código de coleta de lixo (garbage collection) ou código sensível ao desempenho, e uma combinação de malloc e placement new pode ser necessária em vez do operador new de alto nível. malloc é um termo da computação que designa uma função da biblioteca padrão das linguagens de programação C e C++ para requisitar alocação dinâmica de memória. É uma forma abreviada de escrever memory allocation (alocação de memória). \n"
     ]
    }
   ],
   "source": [
    "#Create a doc component to passing the txt to de NPL object created\n",
    "doc = npl(source_txt)\n",
    "print(doc)"
   ]
  },
  {
   "cell_type": "code",
   "execution_count": 15,
   "metadata": {},
   "outputs": [
    {
     "name": "stdout",
     "output_type": "stream",
     "text": [
      "Length of the doc object 174\n",
      "Length of the Source txt 940\n"
     ]
    }
   ],
   "source": [
    "#The length of the doc object is diferrent then from the length of the source txt \n",
    "#This happens because each index on the DOC object is a TOKEN (word, caracter or semantic related symbol)\n",
    "#While on the SOURCE_TXT each index is a CHAR\n",
    "print(\"Length of the doc object %d\" % (len(doc),))\n",
    "print(\"Length of the Source txt %d\" % (len(source_txt),))"
   ]
  },
  {
   "cell_type": "code",
   "execution_count": null,
   "metadata": {},
   "outputs": [],
   "source": [
    "# Iterating the DOC object would be like this\n",
    "# Slicer also work in the DOC object Here it takes the first 10 tokens\n",
    "# (But you should know that since you're a god at python RIGHT?!?!)\n",
    "for token in doc[:10]:\n",
    "    print(token)\n"
   ]
  },
  {
   "cell_type": "code",
   "execution_count": null,
   "metadata": {},
   "outputs": [],
   "source": [
    "# *IMPORTANT* \n",
    "# notice that even though a DOC object it's composed from token setences and spans.\n",
    "# In this example you iterate over the tokens\n",
    "# If you want the sentences use .sents \n",
    "for sent in doc.sents:\n",
    "    print(sent)"
   ]
  },
  {
   "cell_type": "code",
   "execution_count": null,
   "metadata": {},
   "outputs": [],
   "source": [
    "# ! If you trid to execute the following block of code it will BREAK\n",
    "# this happens because the sent object is a generator and DOES NOT SUPORT SLICE OPERATOR\n",
    "for sent in doc.sents[:2]:\n",
    "    print(sent)"
   ]
  },
  {
   "cell_type": "code",
   "execution_count": null,
   "metadata": {},
   "outputs": [],
   "source": [
    "# The solution to the problemm above is to convert the sentences to a list and then use the slice operator\n",
    "for sent in list(doc.sents)[:2]:\n",
    "    print(sent)"
   ]
  },
  {
   "cell_type": "markdown",
   "metadata": {},
   "source": [
    "Important tokens attributes are:\n",
    "    .text\n",
    "    .head\n",
    "    .left_edge\n",
    "    .right_edge\n",
    "    .ent_type_\n",
    "    .iob_\n",
    "    .lemma_\n",
    "    .morph\n",
    "    .pos_\n",
    "    .dep_\n",
    "    .lang_"
   ]
  },
  {
   "cell_type": "code",
   "execution_count": null,
   "metadata": {},
   "outputs": [],
   "source": [
    "sentence = list(doc.sents)[2]\n",
    "print(sentence)\n",
    "token = sentence[1]\n",
    "print(token)"
   ]
  },
  {
   "cell_type": "code",
   "execution_count": null,
   "metadata": {},
   "outputs": [],
   "source": [
    "# .text => return the string of the text inside of the Token.\n",
    "print(token.text)\n",
    "print('Type of token.text: %s' % type(token.text))\n"
   ]
  },
  {
   "cell_type": "code",
   "execution_count": null,
   "metadata": {},
   "outputs": [],
   "source": [
    "# .head => Tells you which word governs this token, in other words whos subject does this token is from.\n",
    "print(token.head)"
   ]
  },
  {
   "cell_type": "code",
   "execution_count": null,
   "metadata": {},
   "outputs": [],
   "source": [
    "# .left_edge\n",
    "# Firs take a look at some random sentece like \"The America is great.\" (LMAO).\n",
    "# Those words gain meaning when they are put together, and that becames a sentece.\n",
    "# Same happens in spacy, but those senteces are called MULT-WORD TOKENS.\n",
    "# The .left_edge points to the token that STARTS the sentece or the MULT-WORD TOKEN.\n",
    "print(token.left_edge)"
   ]
  },
  {
   "cell_type": "code",
   "execution_count": null,
   "metadata": {},
   "outputs": [],
   "source": [
    "# .right_edge Does the oposite from .left_edge, pointing the END of the MULT-WORD TOKEN.\n",
    "print(token.right_edge)"
   ]
  },
  {
   "cell_type": "code",
   "execution_count": null,
   "metadata": {},
   "outputs": [],
   "source": [
    "print(type(token))\n"
   ]
  }
 ],
 "metadata": {
  "kernelspec": {
   "display_name": "Python 3.10.4 ('.env': venv)",
   "language": "python",
   "name": "python3"
  },
  "language_info": {
   "codemirror_mode": {
    "name": "ipython",
    "version": 3
   },
   "file_extension": ".py",
   "mimetype": "text/x-python",
   "name": "python",
   "nbconvert_exporter": "python",
   "pygments_lexer": "ipython3",
   "version": "3.10.4"
  },
  "orig_nbformat": 4,
  "vscode": {
   "interpreter": {
    "hash": "49dc2040759cddeb2fc2f01c19b589326aa81e05a9f1240c60bf7ea0d2ab7ef4"
   }
  }
 },
 "nbformat": 4,
 "nbformat_minor": 2
}
