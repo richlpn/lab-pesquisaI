{
 "cells": [
  {
   "cell_type": "code",
   "execution_count": 2,
   "metadata": {},
   "outputs": [],
   "source": [
    "# !python3 -m spacy download pt_core_news_lg\n",
    "# assingment 1: create a function that tells you if the token passed is a Verb.\n",
    "# assingment 2: read the sample date provided by the professor.\n",
    "# assingment 3: Check for all the verbs used on each piece of data.\n",
    "import spacy\n",
    "from spacy.tokens.token import Token\n",
    "from spacy.tokens.span import Span\n",
    "nlp = spacy.load(\"pt_core_news_lg\")\n"
   ]
  },
  {
   "cell_type": "code",
   "execution_count": 3,
   "metadata": {},
   "outputs": [],
   "source": [
    "# assingment 1: create a function that tells you if the token passed is a Verb.\n",
    "def isVerb(token: Token):\n",
    "    return token.pos_ == \"VERB\"\n"
   ]
  },
  {
   "cell_type": "code",
   "execution_count": 4,
   "metadata": {},
   "outputs": [
    {
     "name": "stdout",
     "output_type": "stream",
     "text": [
      "Olá\t\tFalse\n",
      "eu\t\tFalse\n",
      "gosto\t\tTrue\n",
      "de\t\tFalse\n",
      "futebol\t\tFalse\n"
     ]
    }
   ],
   "source": [
    "txt = \"Olá eu gosto de futebol\"\n",
    "doc = nlp(txt)\n",
    "# print(\"Token\\t\\tÉ Verbo\")\n",
    "for sents in list(doc.sents):\n",
    "    for token in sents:\n",
    "        print(\"%s\\t\\t%s\" % (token.text, isVerb(token)))\n"
   ]
  },
  {
   "cell_type": "code",
   "execution_count": 5,
   "metadata": {},
   "outputs": [],
   "source": [
    "# assingment 2: read the sample date provided by the professor.\n",
    "from PyPDF2 import PdfReader\n",
    "\n",
    "\n",
    "def getDataText() -> str:\n",
    "    reader = PdfReader('./document.pdf')\n",
    "    txt = ''\n",
    "    for page in reader.pages:\n",
    "        txt += page.extract_text()+'\\n'\n",
    "    return txt\n",
    "\n",
    "\n",
    "data = getDataText().splitlines()\n",
    "sample_data1 = ' '.join(data[3:17])\n",
    "sample_data2 = ' '.join(data[18:35])\n",
    "# print(sample_data1,sample_data2)\n"
   ]
  },
  {
   "cell_type": "code",
   "execution_count": 6,
   "metadata": {},
   "outputs": [],
   "source": [
    "# assingment 3: Check for all the verbs used on each piece of data.\n",
    "from typing import List\n",
    "sample_data1_doc = nlp(sample_data1)\n",
    "\n",
    "\n",
    "def getVerbsInSetence(sent: Span) -> List[Token]:\n",
    "    def f(token): return isVerb(token)\n",
    "    def token_to_str(token): return token.text\n",
    "\n",
    "    return list(filter(f, sent))\n",
    "\n",
    "\n",
    "# Get all senteces\n",
    "sample1_senteces = list(sample_data1_doc.sents)\n",
    "# Get all verbs as Token\n",
    "sample1_verbs = list(map(getVerbsInSetence, sample1_senteces))\n"
   ]
  },
  {
   "cell_type": "code",
   "execution_count": 7,
   "metadata": {},
   "outputs": [],
   "source": [
    "from spacy import displacy\n",
    "\n",
    "\n",
    "class Processo:\n",
    "    OBJETO_DEPS = (\"obj\")\n",
    "    SUJEITO_DEPS = (\"nsubj\")\n",
    "    COMPLEMENTO_DEPS = (\"obl\")\n",
    "\n",
    "    sub = []\n",
    "    obj = []\n",
    "    verb = []\n",
    "    cmplt = []\n",
    "\n",
    "    def __str__(self) -> str:\n",
    "        return ' '.join(self.sub) + ' ' +\\\n",
    "            ' '.join(self.verb) + '' +\\\n",
    "            ' '.join(self.obj) + ' ' +\\\n",
    "            ' '.join(self.cmplt)\n",
    "\n",
    "    def __init__(self, doc) -> 'Processo':\n",
    "\n",
    "        for token in doc:\n",
    "\n",
    "            if token.pos_ == \"VERB\":\n",
    "                self.verb.append(token.text)\n",
    "\n",
    "            elif token.dep_ in Processo.OBJETO_DEPS or token.head.dep_ in Processo.OBJETO_DEPS:\n",
    "                self.obj.append(token.text)\n",
    "            # is this the subject?\n",
    "            elif token.dep_ in Processo.SUJEITO_DEPS or token.head.dep_ in Processo.SUJEITO_DEPS:\n",
    "                self.sub.append(token.text)\n",
    "            elif token.dep_ in Processo.COMPLEMENTO_DEPS or token.head.dep_ in Processo.COMPLEMENTO_DEPS:\n",
    "                self.cmplt.append(token.text)\n",
    "\n"
   ]
  },
  {
   "cell_type": "code",
   "execution_count": null,
   "metadata": {},
   "outputs": [],
   "source": []
  },
  {
   "cell_type": "code",
   "execution_count": 8,
   "metadata": {},
   "outputs": [
    {
     "name": "stdout",
     "output_type": "stream",
     "text": [
      "Uma consulta dermatologista inicia-se no balcão atendimento com a identificação paciente\n"
     ]
    }
   ],
   "source": [
    "processo = Processo(nlp(sample1_senteces[0].text))\n",
    "print(processo)"
   ]
  },
  {
   "cell_type": "markdown",
   "metadata": {},
   "source": []
  }
 ],
 "metadata": {
  "kernelspec": {
   "display_name": "Python 3.10.6 ('.env': venv)",
   "language": "python",
   "name": "python3"
  },
  "language_info": {
   "codemirror_mode": {
    "name": "ipython",
    "version": 3
   },
   "file_extension": ".py",
   "mimetype": "text/x-python",
   "name": "python",
   "nbconvert_exporter": "python",
   "pygments_lexer": "ipython3",
   "version": "3.10.6"
  },
  "orig_nbformat": 4,
  "vscode": {
   "interpreter": {
    "hash": "c3be00bdedf196b030755073cdf456707cc80cb9098d2d2e3b3ed646c120acb1"
   }
  }
 },
 "nbformat": 4,
 "nbformat_minor": 2
}
